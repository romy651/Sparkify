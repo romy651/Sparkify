{
 "cells": [
  {
   "cell_type": "markdown",
   "metadata": {},
   "source": [
    "# Sparkify Project Workspace\n",
    "This workspace contains a tiny subset (128MB) of the full dataset available (12GB). Feel free to use this workspace to build your project, or to explore a smaller subset with Spark before deploying your cluster on the cloud. Instructions for setting up your Spark cluster is included in the last lesson of the Extracurricular Spark Course content.\n",
    "\n",
    "You can follow the steps below to guide your data analysis and model building portion of this project."
   ]
  },
  {
   "cell_type": "code",
   "execution_count": 1,
   "metadata": {},
   "outputs": [],
   "source": [
    "# import libraries\n",
    "import pyspark\n",
    "from pyspark import SparkConf\n",
    "from pyspark.sql import SparkSession\n",
    "from pyspark.sql.functions import udf\n",
    "from pyspark.sql.types import StringType\n",
    "from pyspark.sql.types import IntegerType\n",
    "from pyspark.sql.functions import isnan, count, when, col, desc, udf, col, sort_array, asc, avg\n",
    "from pyspark.sql.functions import sum as Fsum\n",
    "from pyspark.sql.window import Window\n",
    "from pyspark.sql import Row\n",
    "from pyspark.sql import functions as F\n",
    "from pyspark.sql.functions import *\n",
    "\n",
    "from pyspark.ml import Pipeline\n",
    "from pyspark.ml.classification import LogisticRegression, RandomForestClassifier, GBTClassifier, LinearSVC, NaiveBayes\n",
    "from pyspark.ml.evaluation import MulticlassClassificationEvaluator\n",
    "from pyspark.ml.feature import CountVectorizer, IDF, PCA, RegexTokenizer, VectorAssembler, Normalizer, StandardScaler\n",
    "from pyspark.ml.regression import LinearRegression\n",
    "from pyspark.ml.tuning import CrossValidator, ParamGridBuilder\n",
    "\n",
    "import datetime\n",
    "import time\n",
    "\n",
    "import pandas as pd\n",
    "import numpy as np\n",
    "import re\n",
    "%matplotlib inline\n",
    "import matplotlib.pyplot as plt\n",
    "import seaborn as sns\n",
    "sns.set()"
   ]
  },
  {
   "cell_type": "code",
   "execution_count": 3,
   "metadata": {},
   "outputs": [],
   "source": [
    "import os\n",
    "os.environ['JAVA_HOME'] = '/workspace/jdk'\n",
    "os.environ['PATH'] = f\"{os.environ['JAVA_HOME']}/bin:{os.environ['PATH']}\""
   ]
  },
  {
   "cell_type": "code",
   "execution_count": 4,
   "metadata": {},
   "outputs": [
    {
     "name": "stderr",
     "output_type": "stream",
     "text": [
      "/opt/venv/lib/python3.10/site-packages/pyspark/bin/load-spark-env.sh: line 68: ps: command not found\n",
      "Setting default log level to \"WARN\".\n",
      "To adjust logging level use sc.setLogLevel(newLevel). For SparkR, use setLogLevel(newLevel).\n",
      "24/09/09 05:37:49 WARN NativeCodeLoader: Unable to load native-hadoop library for your platform... using builtin-java classes where applicable\n"
     ]
    }
   ],
   "source": [
    "# create a Spark session\n",
    "\n",
    "spark = SparkSession.builder.appName(\"Sparkify Project\").getOrCreate()"
   ]
  },
  {
   "cell_type": "markdown",
   "metadata": {},
   "source": [
    "# Load and Clean Dataset\n",
    "In this workspace, the mini-dataset file is `mini_sparkify_event_data.json`. Load and clean the dataset, checking for invalid or missing data - for example, records without userids or sessionids. "
   ]
  },
  {
   "cell_type": "code",
   "execution_count": 5,
   "metadata": {},
   "outputs": [
    {
     "name": "stderr",
     "output_type": "stream",
     "text": [
      "                                                                                \r"
     ]
    }
   ],
   "source": [
    "df = spark.read.json(\"mini_sparkify_event_data.json\")"
   ]
  },
  {
   "cell_type": "markdown",
   "metadata": {},
   "source": [
    "# Exploratory Data Analysis\n",
    "When you're working with the full dataset, perform EDA by loading a small subset of the data and doing basic manipulations within Spark. In this workspace, you are already provided a small subset of data you can explore.\n",
    "\n",
    "### Define Churn\n",
    "\n",
    "Once you've done some preliminary analysis, create a column `Churn` to use as the label for your model. I suggest using the `Cancellation Confirmation` events to define your churn, which happen for both paid and free users. As a bonus task, you can also look into the `Downgrade` events.\n",
    "\n",
    "### Explore Data\n",
    "Once you've defined churn, perform some exploratory data analysis to observe the behavior for users who stayed vs users who churned. You can start by exploring aggregates on these two groups of users, observing how much of a specific action they experienced per a certain time unit or number of songs played."
   ]
  },
  {
   "cell_type": "code",
   "execution_count": 6,
   "metadata": {},
   "outputs": [
    {
     "name": "stdout",
     "output_type": "stream",
     "text": [
      "root\n",
      " |-- artist: string (nullable = true)\n",
      " |-- auth: string (nullable = true)\n",
      " |-- firstName: string (nullable = true)\n",
      " |-- gender: string (nullable = true)\n",
      " |-- itemInSession: long (nullable = true)\n",
      " |-- lastName: string (nullable = true)\n",
      " |-- length: double (nullable = true)\n",
      " |-- level: string (nullable = true)\n",
      " |-- location: string (nullable = true)\n",
      " |-- method: string (nullable = true)\n",
      " |-- page: string (nullable = true)\n",
      " |-- registration: long (nullable = true)\n",
      " |-- sessionId: long (nullable = true)\n",
      " |-- song: string (nullable = true)\n",
      " |-- status: long (nullable = true)\n",
      " |-- ts: long (nullable = true)\n",
      " |-- userAgent: string (nullable = true)\n",
      " |-- userId: string (nullable = true)\n",
      "\n"
     ]
    }
   ],
   "source": [
    "df.printSchema()"
   ]
  },
  {
   "cell_type": "markdown",
   "metadata": {},
   "source": [
    "# Feature Engineering\n",
    "Once you've familiarized yourself with the data, build out the features you find promising to train your model on. To work with the full dataset, you can follow the following steps.\n",
    "- Write a script to extract the necessary features from the smaller subset of data\n",
    "- Ensure that your script is scalable, using the best practices discussed in Lesson 3\n",
    "- Try your script on the full data set, debugging your script if necessary\n",
    "\n",
    "If you are working in the classroom workspace, you can just extract features based on the small subset of data contained here. Be sure to transfer over this work to the larger dataset when you work on your Spark cluster."
   ]
  },
  {
   "cell_type": "code",
   "execution_count": 14,
   "metadata": {},
   "outputs": [
    {
     "name": "stdout",
     "output_type": "stream",
     "text": [
      "The total number of rows in the dataframe is 286500\n",
      "The total number of column in the dataframe is 18\n"
     ]
    }
   ],
   "source": [
    "#Compute the number of row in the dataframe\n",
    "print(\"The total number of rows in the dataframe is {}\".format(df.count()))\n",
    "\n",
    "#Compute the number of columns in the dataframe\n",
    "print(\"The total number of column in the dataframe is {}\".format(len(df.columns)))"
   ]
  },
  {
   "cell_type": "code",
   "execution_count": 10,
   "metadata": {},
   "outputs": [
    {
     "data": {
      "text/plain": [
       "DataFrame[summary: string, artist: string, auth: string, firstName: string, gender: string, itemInSession: string, lastName: string, length: string, level: string, location: string, method: string, page: string, registration: string, sessionId: string, song: string, status: string, ts: string, userAgent: string, userId: string]"
      ]
     },
     "execution_count": 10,
     "metadata": {},
     "output_type": "execute_result"
    }
   ],
   "source": [
    "df.describe()"
   ]
  },
  {
   "cell_type": "code",
   "execution_count": 18,
   "metadata": {},
   "outputs": [
    {
     "name": "stderr",
     "output_type": "stream",
     "text": [
      "                                                                                \r"
     ]
    },
    {
     "name": "stdout",
     "output_type": "stream",
     "text": [
      "+-------+------------------+----------+---------+------+------------------+--------+\n",
      "|summary|            artist|      auth|firstName|gender|     itemInSession|lastName|\n",
      "+-------+------------------+----------+---------+------+------------------+--------+\n",
      "|  count|            228108|    286500|   278154|278154|            286500|  278154|\n",
      "|   mean| 551.0852017937219|      NULL|     NULL|  NULL|114.41421291448516|    NULL|\n",
      "| stddev|1217.7693079161374|      NULL|     NULL|  NULL|129.76726201140994|    NULL|\n",
      "|    min|               !!!| Cancelled| Adelaida|     F|                 0|   Adams|\n",
      "|    max| ÃÂlafur Arnalds|Logged Out|   Zyonna|     M|              1321|  Wright|\n",
      "+-------+------------------+----------+---------+------+------------------+--------+\n",
      "\n"
     ]
    },
    {
     "name": "stderr",
     "output_type": "stream",
     "text": [
      "                                                                                \r"
     ]
    },
    {
     "name": "stdout",
     "output_type": "stream",
     "text": [
      "+-------+-----------------+------+-----------------+------+-------+--------------------+-----------------+\n",
      "|summary|           length| level|         location|method|   page|        registration|        sessionId|\n",
      "+-------+-----------------+------+-----------------+------+-------+--------------------+-----------------+\n",
      "|  count|           228108|286500|           278154|286500| 286500|              278154|           286500|\n",
      "|   mean|249.1171819778458|  NULL|             NULL|  NULL|   NULL|1.535358834084427...|1041.526554973822|\n",
      "| stddev|99.23517921058361|  NULL|             NULL|  NULL|   NULL| 3.291321616327586E9|726.7762634630741|\n",
      "|    min|          0.78322|  free|       Albany, OR|   GET|  About|       1521380675000|                1|\n",
      "|    max|       3024.66567|  paid|Winston-Salem, NC|   PUT|Upgrade|       1543247354000|             2474|\n",
      "+-------+-----------------+------+-----------------+------+-------+--------------------+-----------------+\n",
      "\n"
     ]
    },
    {
     "name": "stderr",
     "output_type": "stream",
     "text": [
      "\r",
      "[Stage 136:>                                                        (0 + 1) / 1]\r"
     ]
    },
    {
     "name": "stdout",
     "output_type": "stream",
     "text": [
      "+-------+--------------------+------------------+--------------------+--------------------+-----------------+\n",
      "|summary|                song|            status|                  ts|           userAgent|           userId|\n",
      "+-------+--------------------+------------------+--------------------+--------------------+-----------------+\n",
      "|  count|              228108|            286500|              286500|              278154|           286500|\n",
      "|   mean|            Infinity|210.05459685863875|1.540956889810483...|                NULL|59682.02278593872|\n",
      "| stddev|                 NaN| 31.50507848842214|1.5075439608226302E9|                NULL|109091.9499991047|\n",
      "|    min|\u001c",
      "ÃÂg ÃÂtti Gr...|               200|       1538352117000|\"Mozilla/5.0 (Mac...|                 |\n",
      "|    max|ÃÂau hafa slopp...|               404|       1543799476000|Mozilla/5.0 (comp...|               99|\n",
      "+-------+--------------------+------------------+--------------------+--------------------+-----------------+\n",
      "\n"
     ]
    },
    {
     "name": "stderr",
     "output_type": "stream",
     "text": [
      "\r",
      "                                                                                \r"
     ]
    }
   ],
   "source": [
    "#We provide a detailed description of the dataframe's column\n",
    "\n",
    "df.describe(df.columns[:6]).show()\n",
    "df.describe(df.columns[6:13]).show()\n",
    "df.describe(df.columns[13:]).show()"
   ]
  },
  {
   "cell_type": "code",
   "execution_count": 8,
   "metadata": {},
   "outputs": [],
   "source": [
    "def info(df):\n",
    "    info = pd.DataFrame(columns = ['Feature','#Nullvalues','#Empetystring','#NonNullvalues','%Non-nullvalues'])\n",
    "    #Here we try tocheck for the number of null rows in each column\n",
    "    i = 0\n",
    "    row_count = df.count()\n",
    "    for col in df.columns:\n",
    "        null_count = df.filter(isnull(df[col])).count()\n",
    "        emptystring_count = df.filter(df[col].isin('')).count()\n",
    "        info.loc[i] = [col,null_count,emptystring_count,(row_count-null_count),(row_count-null_count)/row_count]\n",
    "        i +=1\n",
    "    print(info)"
   ]
  },
  {
   "cell_type": "code",
   "execution_count": 9,
   "metadata": {},
   "outputs": [
    {
     "name": "stderr",
     "output_type": "stream",
     "text": [
      "                                                                                \r"
     ]
    },
    {
     "name": "stdout",
     "output_type": "stream",
     "text": [
      "          Feature  #Nullvalues  #Empetystring  #NonNullvalues  %Non-nullvalues\n",
      "0          artist        58392              0          228108         0.796188\n",
      "1            auth            0              0          286500         1.000000\n",
      "2       firstName         8346              0          278154         0.970869\n",
      "3          gender         8346              0          278154         0.970869\n",
      "4   itemInSession            0              0          286500         1.000000\n",
      "5        lastName         8346              0          278154         0.970869\n",
      "6          length        58392              0          228108         0.796188\n",
      "7           level            0              0          286500         1.000000\n",
      "8        location         8346              0          278154         0.970869\n",
      "9          method            0              0          286500         1.000000\n",
      "10           page            0              0          286500         1.000000\n",
      "11   registration         8346              0          278154         0.970869\n",
      "12      sessionId            0              0          286500         1.000000\n",
      "13           song        58392              0          228108         0.796188\n",
      "14         status            0              0          286500         1.000000\n",
      "15             ts            0              0          286500         1.000000\n",
      "16      userAgent         8346              0          278154         0.970869\n",
      "17         userId            0           8346          286500         1.000000\n"
     ]
    }
   ],
   "source": [
    "info(df)"
   ]
  },
  {
   "cell_type": "code",
   "execution_count": 19,
   "metadata": {},
   "outputs": [],
   "source": [
    "# drop rows with missing values in userid and/or sessionid\n",
    "df = df.dropna(how = 'any', subset = [\"userId\", \"sessionId\"])"
   ]
  },
  {
   "cell_type": "code",
   "execution_count": 20,
   "metadata": {},
   "outputs": [],
   "source": [
    "#Remove records with empth userId string\n",
    "df = df.filter(df['userId'] != '')"
   ]
  },
  {
   "cell_type": "code",
   "execution_count": 21,
   "metadata": {},
   "outputs": [
    {
     "name": "stderr",
     "output_type": "stream",
     "text": [
      "\r",
      "[Stage 139:>                                                        (0 + 1) / 1]\r"
     ]
    },
    {
     "name": "stdout",
     "output_type": "stream",
     "text": [
      "The number of rows in the remaining dataframe is 278154\n"
     ]
    },
    {
     "name": "stderr",
     "output_type": "stream",
     "text": [
      "\r",
      "                                                                                \r"
     ]
    }
   ],
   "source": [
    "print(\"The number of rows in the remaining dataframe is {}\".format(df.count()))"
   ]
  },
  {
   "cell_type": "code",
   "execution_count": 25,
   "metadata": {},
   "outputs": [
    {
     "name": "stderr",
     "output_type": "stream",
     "text": [
      "\r",
      "[Stage 148:>                                                        (0 + 1) / 1]\r"
     ]
    },
    {
     "name": "stdout",
     "output_type": "stream",
     "text": [
      "The number of distinct records in our dataframe is 278154\n"
     ]
    },
    {
     "name": "stderr",
     "output_type": "stream",
     "text": [
      "\r",
      "                                                                                \r"
     ]
    }
   ],
   "source": [
    "print(\"The number of distinct records in our dataframe is {}\".format(df.distinct().count()))"
   ]
  },
  {
   "cell_type": "markdown",
   "metadata": {},
   "source": [
    "## Exploratory Data Analysis\n",
    "<a class=\"anchor\" id=\"eda\"></a>\n",
    "\n",
    "### Define Churn\n",
    "\n",
    "A column `Churn` will be created to use as the label for our model. `Cancellation Confirmation` events is used to define churn, which happen for both paid and free users. We will assign a 1 where a user has churned and a 0 where they have not churned.\n",
    "\n",
    "### Explore Data\n",
    "Exploratory data analysis will  be performed to observe the behavior for users who stayed vs users who churned. Starting by exploring aggregates on these two groups of users, observing how much of a specific action they experienced per a certain time unit or number of songs played."
   ]
  },
  {
   "cell_type": "code",
   "execution_count": 30,
   "metadata": {},
   "outputs": [
    {
     "data": {
      "text/plain": [
       "52"
      ]
     },
     "execution_count": 30,
     "metadata": {},
     "output_type": "execute_result"
    }
   ],
   "source": [
    "# number of users who churned\n",
    "df.select([\"userId\", \"page\"]).where(df.page == \"Cancellation Confirmation\").count()"
   ]
  },
  {
   "cell_type": "code",
   "execution_count": 31,
   "metadata": {},
   "outputs": [],
   "source": [
    "# add a new column \"churn_value\" to mark cancellation event\n",
    "churn_value = udf(lambda x: 1 if x == 'Cancellation Confirmation' else 0, IntegerType())\n",
    "df = df.withColumn(\"churn_value\", churn_value(\"page\"))"
   ]
  },
  {
   "cell_type": "code",
   "execution_count": 32,
   "metadata": {},
   "outputs": [
    {
     "name": "stderr",
     "output_type": "stream",
     "text": [
      "                                                                                \r"
     ]
    },
    {
     "data": {
      "text/plain": [
       "Row(artist='Martha Tilston', auth='Logged In', firstName='Colin', gender='M', itemInSession=50, lastName='Freeman', length=277.89016, level='paid', location='Bakersfield, CA', method='PUT', page='NextSong', registration=1538173362000, sessionId=29, song='Rockpools', status=200, ts=1538352117000, userAgent='Mozilla/5.0 (Windows NT 6.1; WOW64; rv:31.0) Gecko/20100101 Firefox/31.0', userId='30', churn_value=0)"
      ]
     },
     "execution_count": 32,
     "metadata": {},
     "output_type": "execute_result"
    }
   ],
   "source": [
    "df.head()"
   ]
  },
  {
   "cell_type": "code",
   "execution_count": 33,
   "metadata": {},
   "outputs": [],
   "source": [
    "# label users who have churned\n",
    "churn_window = Window.partitionBy(\"userId\").rangeBetween(Window.unboundedPreceding, Window.unboundedFollowing)\n",
    "df = df.withColumn(\"user_churn\", sum('churn_value').over(churn_window))"
   ]
  },
  {
   "cell_type": "code",
   "execution_count": 34,
   "metadata": {},
   "outputs": [
    {
     "name": "stderr",
     "output_type": "stream",
     "text": [
      "                                                                                \r"
     ]
    },
    {
     "data": {
      "text/plain": [
       "Text(0.5, 0, 'Subscription status')"
      ]
     },
     "execution_count": 34,
     "metadata": {},
     "output_type": "execute_result"
    },
    {
     "data": {
      "image/png": "[encoded data removed]",
      "text/plain": [
       "<Figure size 640x480 with 1 Axes>"
      ]
     },
     "metadata": {},
     "output_type": "display_data"
    }
   ],
   "source": [
    "# We plot the unique number of users according to the subscription status\n",
    "plt.grid(True)\n",
    "df_ch_pd = df.drop_duplicates(['userId']).groupby(['user_churn']).count().sort(\"user_churn\").toPandas()\n",
    "sns.barplot(data =df_ch_pd, x = 'user_churn',y = 'count')\n",
    "churn_d = ['Active', 'Cancelled']\n",
    "x_pos = np.arange(len(churn_d))\n",
    "plt.xticks(x_pos,churn_d)\n",
    "plt.title('Number of unique users by Subscription status')\n",
    "plt.ylabel('Number of users')\n",
    "plt.xlabel('Subscription status')"
   ]
  },
  {
   "cell_type": "code",
   "execution_count": 35,
   "metadata": {},
   "outputs": [
    {
     "name": "stderr",
     "output_type": "stream",
     "text": [
      "                                                                                \r"
     ]
    },
    {
     "data": {
      "text/plain": [
       "Text(0.5, 0, 'Subscription status')"
      ]
     },
     "execution_count": 35,
     "metadata": {},
     "output_type": "execute_result"
    },
    {
     "data": {
      "image/png": "[encoded data removed]",
      "text/plain": [
       "<Figure size 640x480 with 1 Axes>"
      ]
     },
     "metadata": {},
     "output_type": "display_data"
    }
   ],
   "source": [
    "# Plotting a bar plot to show gender distribution by Subscription status\n",
    "plt.grid(True)\n",
    "df_ch_pd = df.drop_duplicates(['userId', 'gender']).groupby(['user_churn', 'gender']).count().sort(\"user_churn\").toPandas()\n",
    "sns.barplot(x = 'user_churn', y = 'count', data = df_ch_pd, hue = 'gender')\n",
    "churn_d = ['Active', 'Cancelled']\n",
    "y_pos = np.arange(len(churn_d))\n",
    "plt.xticks(y_pos,churn_d)\n",
    "plt.title(\"Gender distribution by Subscription status\")\n",
    "plt.ylabel('Number of users')\n",
    "plt.xlabel('Subscription status')"
   ]
  },
  {
   "cell_type": "code",
   "execution_count": 36,
   "metadata": {},
   "outputs": [
    {
     "name": "stderr",
     "output_type": "stream",
     "text": [
      "                                                                                \r"
     ]
    },
    {
     "data": {
      "text/plain": [
       "Text(0.5, 0, 'Subscription status')"
      ]
     },
     "execution_count": 36,
     "metadata": {},
     "output_type": "execute_result"
    },
    {
     "data": {
      "image/png": "[encoded data removed]",
      "text/plain": [
       "<Figure size 640x480 with 1 Axes>"
      ]
     },
     "metadata": {},
     "output_type": "display_data"
    }
   ],
   "source": [
    "# Plotting a bar plot to show level distribution by Subscription status\n",
    "plt.grid(True)\n",
    "level_df = df.drop_duplicates(['userId','churn_value', 'level']).groupby(['churn_value', 'level']).count().sort(\"churn_value\").toPandas()\n",
    "sns.barplot(x = 'churn_value', y = 'count', data = level_df, hue = 'level')\n",
    "churn_d = ['Active', 'Cancelled']\n",
    "x_pos = np.arange(len(churn_d))\n",
    "plt.xticks(x_pos,churn_d)\n",
    "plt.title(\"Free\\Paid levels distribution by Subscription status\")\n",
    "plt.ylabel('Number of users')\n",
    "plt.xlabel('Subscription status')"
   ]
  },
  {
   "cell_type": "markdown",
   "metadata": {},
   "source": [
    "We can now turn our attention to calculating the number of songs listened to by churn and non churn users per hour. "
   ]
  },
  {
   "cell_type": "code",
   "execution_count": 55,
   "metadata": {},
   "outputs": [],
   "source": [
    "get_hour = udf(lambda x: datetime.datetime.fromtimestamp(x / 1000.0). hour)\n",
    "df = df.withColumn(\"hour\", get_hour(df.ts))\n",
    "\n",
    "get_weekday = udf(lambda x: datetime.datetime.fromtimestamp(x / 1000.0).strftime(\"%w\"))\n",
    "df = df.withColumn(\"weekday\", get_weekday(df.ts))\n",
    "\n",
    "get_day = udf(lambda x: datetime.datetime.fromtimestamp(x / 1000.0).day)\n",
    "df = df.withColumn(\"day\", get_day(df.ts))"
   ]
  },
  {
   "cell_type": "code",
   "execution_count": 56,
   "metadata": {},
   "outputs": [
    {
     "name": "stderr",
     "output_type": "stream",
     "text": [
      "                                                                                \r"
     ]
    },
    {
     "data": {
      "text/plain": [
       "Row(artist='Sea Wolf', auth='Logged In', firstName='Brycen', gender='M', itemInSession=0, lastName='Bradley', length=265.53424, level='paid', location='Laurel, MS', method='PUT', page='NextSong', registration=1538159495000, sessionId=9, song='Ses Monuments', status=200, ts=1538965220000, userAgent='\"Mozilla/5.0 (Macintosh; Intel Mac OS X 10_9_4) AppleWebKit/537.36 (KHTML, like Gecko) Chrome/36.0.1985.143 Safari/537.36\"', userId='10', churn_value=0, user_churn=0, hour='2', weekday='1', day='8')"
      ]
     },
     "execution_count": 56,
     "metadata": {},
     "output_type": "execute_result"
    }
   ],
   "source": [
    "df.head()"
   ]
  },
  {
   "cell_type": "code",
   "execution_count": 58,
   "metadata": {},
   "outputs": [],
   "source": [
    "# create a df with those who didnt churn and which counts when user goes to next song page\n",
    "songs_in_hour_stay = df.filter((df.page == \"NextSong\") & (df.user_churn == 0)).groupby(df.hour).count().orderBy(df.hour.cast(\"float\"))"
   ]
  },
  {
   "cell_type": "code",
   "execution_count": 59,
   "metadata": {},
   "outputs": [
    {
     "name": "stderr",
     "output_type": "stream",
     "text": [
      "[Stage 208:>                                                        (0 + 1) / 1]\r"
     ]
    },
    {
     "name": "stdout",
     "output_type": "stream",
     "text": [
      "+----+-----+\n",
      "|hour|count|\n",
      "+----+-----+\n",
      "|   0| 7527|\n",
      "|   1| 7035|\n",
      "|   2| 7014|\n",
      "|   3| 7063|\n",
      "|   4| 6914|\n",
      "|   5| 6960|\n",
      "|   6| 6836|\n",
      "|   7| 6873|\n",
      "|   8| 7023|\n",
      "|   9| 7268|\n",
      "|  10| 7502|\n",
      "|  11| 7440|\n",
      "|  12| 7918|\n",
      "|  13| 8073|\n",
      "|  14| 8792|\n",
      "|  15| 9462|\n",
      "|  16| 9721|\n",
      "|  17| 9464|\n",
      "|  18| 9146|\n",
      "|  19| 9112|\n",
      "|  20| 9107|\n",
      "|  21| 8853|\n",
      "|  22| 8526|\n",
      "|  23| 8085|\n",
      "+----+-----+\n",
      "\n"
     ]
    },
    {
     "name": "stderr",
     "output_type": "stream",
     "text": [
      "\r",
      "                                                                                \r"
     ]
    }
   ],
   "source": [
    "songs_in_hour_stay.show(24)"
   ]
  },
  {
   "cell_type": "code",
   "execution_count": 60,
   "metadata": {},
   "outputs": [
    {
     "name": "stderr",
     "output_type": "stream",
     "text": [
      "                                                                                \r"
     ]
    },
    {
     "data": {
      "image/png": "[encoded data removed]",
      "text/plain": [
       "<Figure size 800x600 with 1 Axes>"
      ]
     },
     "metadata": {},
     "output_type": "display_data"
    }
   ],
   "source": [
    "# convert to pandas and then to numeric\n",
    "songs_in_hour_stay_pd = songs_in_hour_stay.toPandas()\n",
    "songs_in_hour_stay_pd.hour = pd.to_numeric(songs_in_hour_stay_pd.hour)\n",
    "\n",
    "#plot the distribution\n",
    "plt.figure(figsize = [8,6])\n",
    "plt.scatter(songs_in_hour_stay_pd[\"hour\"], songs_in_hour_stay_pd[\"count\"])\n",
    "plt.xlim(-1, 24)\n",
    "plt.xlabel(\"Hour\")\n",
    "plt.ylabel(\"Songs played\")\n",
    "plt.title(\"Number of Songs Played per Hour (Non Churn Users)\");"
   ]
  },
  {
   "cell_type": "markdown",
   "metadata": {},
   "source": [
    "We observe from the above a peak of song played between 15 to 20."
   ]
  },
  {
   "cell_type": "code",
   "execution_count": 65,
   "metadata": {},
   "outputs": [],
   "source": [
    "# dataframe with customers who churned and count next song page \n",
    "songs_in_hour_churned = df.filter((df.page == \"NextSong\") & (df.user_churn == 1)).groupby(df.hour).count().orderBy(df.hour.cast(\"float\"))"
   ]
  },
  {
   "cell_type": "code",
   "execution_count": 66,
   "metadata": {},
   "outputs": [
    {
     "name": "stderr",
     "output_type": "stream",
     "text": [
      "\r",
      "[Stage 244:>                                                        (0 + 1) / 1]\r"
     ]
    },
    {
     "name": "stdout",
     "output_type": "stream",
     "text": [
      "+----+-----+\n",
      "|hour|count|\n",
      "+----+-----+\n",
      "|   0| 1535|\n",
      "|   1| 1353|\n",
      "|   2| 1322|\n",
      "|   3| 1292|\n",
      "|   4| 1233|\n",
      "|   5| 1218|\n",
      "|   6| 1218|\n",
      "|   7| 1218|\n",
      "|   8| 1230|\n",
      "|   9| 1230|\n",
      "|  10| 1380|\n",
      "|  11| 1390|\n",
      "|  12| 1408|\n",
      "|  13| 1571|\n",
      "|  14| 1702|\n",
      "|  15| 1892|\n",
      "|  16| 1915|\n",
      "|  17| 1996|\n",
      "|  18| 1978|\n",
      "|  19| 1818|\n",
      "+----+-----+\n",
      "only showing top 20 rows\n",
      "\n"
     ]
    },
    {
     "name": "stderr",
     "output_type": "stream",
     "text": [
      "\r",
      "                                                                                \r"
     ]
    }
   ],
   "source": [
    "songs_in_hour_churned.show()"
   ]
  },
  {
   "cell_type": "code",
   "execution_count": 67,
   "metadata": {},
   "outputs": [
    {
     "name": "stderr",
     "output_type": "stream",
     "text": [
      "                                                                                \r"
     ]
    }
   ],
   "source": [
    "# convert to pandas and to numeric\n",
    "songs_in_hour_churned = songs_in_hour_churned.toPandas()\n",
    "songs_in_hour_churned.hour = pd.to_numeric(songs_in_hour_churned.hour)"
   ]
  },
  {
   "cell_type": "code",
   "execution_count": 68,
   "metadata": {},
   "outputs": [
    {
     "data": {
      "image/png": "[encoded data removed]",
      "text/plain": [
       "<Figure size 800x600 with 1 Axes>"
      ]
     },
     "metadata": {},
     "output_type": "display_data"
    }
   ],
   "source": [
    "#plot distribution of songs per hour for churned\n",
    "plt.figure(figsize = [8,6])\n",
    "plt.scatter(songs_in_hour_churned[\"hour\"], songs_in_hour_churned[\"count\"])\n",
    "plt.xlim(-1, 24)\n",
    "plt.xlabel(\"Hour\")\n",
    "plt.ylabel(\"Songs played\")\n",
    "plt.title(\"Number of Songs Played per Hour Users who Churned\");"
   ]
  },
  {
   "cell_type": "markdown",
   "metadata": {},
   "source": [
    "We observe a similar distribution with the non churn users. However the number of songs played by the churn users is significally higher. "
   ]
  },
  {
   "cell_type": "markdown",
   "metadata": {},
   "source": [
    "# Feature Engineering"
   ]
  },
  {
   "cell_type": "markdown",
   "metadata": {},
   "source": [
    "The features we will build out are:\n",
    " - gender \n",
    " - Total number of  songs listened\n",
    " - Total time spent \n",
    " - number of thumb down actions\n",
    " - number of thumbs up actions\n",
    " - number of songs added to playlist\n",
    " - Number of lifetime\n",
    " - number of friends added\n",
    " - Total number of songs listened per session\n",
    " - number of different artists listened to\n",
    " \n",
    "We will also then add a churn label and join these all together. This will create a dataFrame where each row represents information pertaining to each individual user. Once we drop the userId, this dataframe can be vectorised, standarised and fed into our different machine learning algorithms."
   ]
  },
  {
   "cell_type": "code",
   "execution_count": 90,
   "metadata": {},
   "outputs": [],
   "source": [
    "#Feature1: Gender\n",
    "\n",
    "feat_1 = df.select(['userId', 'gender']).dropDuplicates()\n",
    "feat_1 = gender_f1.withColumn('gender', when(col('gender') == 'F', 1).otherwise(0))"
   ]
  },
  {
   "cell_type": "code",
   "execution_count": 91,
   "metadata": {},
   "outputs": [],
   "source": [
    "# Feature 2 : Total number of  songs listened\n",
    "feat_2 = df.select('userId', 'song').groupBy('userId').count().withColumnRenamed('count', 'tot_songs')"
   ]
  },
  {
   "cell_type": "code",
   "execution_count": 92,
   "metadata": {},
   "outputs": [],
   "source": [
    "# Feature 3 : Total time spent \n",
    "feat_3 = df.select('userID','length').groupBy('userID').agg({'length':'sum'}).withColumnRenamed('sum(length)', 'listen_time')"
   ]
  },
  {
   "cell_type": "code",
   "execution_count": 93,
   "metadata": {},
   "outputs": [],
   "source": [
    "# Feature 4 : Number of thumbs-up\n",
    "feat_4 = df.select('userID','page').where(df.page == 'Thumbs Up').groupBy('userID').agg({'page':'count'}).withColumnRenamed('count(page)', 'num_thumb_up')\n",
    "\n",
    "#Feature 5 : Number thumbs-down\n",
    "feat_5 = df .select('userID','page').where(df.page == 'Thumbs Down').groupBy('userID').agg({'page':'count'}).withColumnRenamed('count(page)', 'num_thumb_down')"
   ]
  },
  {
   "cell_type": "code",
   "execution_count": 94,
   "metadata": {},
   "outputs": [],
   "source": [
    "# Feature 6 : Number of adds to playlist\n",
    "feat_6 = df.select('userID','page').where(df.page == 'Add to Playlist').groupBy('userID').agg({'page':'count'}).withColumnRenamed('count(page)', 'add_to_playlist')"
   ]
  },
  {
   "cell_type": "code",
   "execution_count": 95,
   "metadata": {},
   "outputs": [],
   "source": [
    "# Feature 7 : Number of lifetime\n",
    "feat_7 = df.select('userID','registration','ts').withColumn('lifetime',(df.ts-df.registration)).groupBy('userID').agg({'lifetime':'max'}).withColumnRenamed('max(lifetime)','lt')"
   ]
  },
  {
   "cell_type": "code",
   "execution_count": 96,
   "metadata": {},
   "outputs": [],
   "source": [
    "# Feature 8 : Total number of friends\n",
    "feat_8 = df.select('userId', 'page').where(df.page == 'Add Friend').groupBy('userId').count().withColumnRenamed('count', 'tot_friends')"
   ]
  },
  {
   "cell_type": "code",
   "execution_count": 97,
   "metadata": {},
   "outputs": [],
   "source": [
    "# Feature 10 : Total number of songs listened per session\n",
    "feat_9  = df.where('page == \"NextSong\"').groupby(['userId', 'sessionId']).count().groupby('userId')\\\n",
    "          .agg({'count' : 'avg'}).withColumnRenamed('avg(count)', 'avg_played_songs')"
   ]
  },
  {
   "cell_type": "code",
   "execution_count": 98,
   "metadata": {},
   "outputs": [],
   "source": [
    "# Feature 11 : Total number of artists the user has listened to\n",
    "feat_10 = df.filter(df.page == \"NextSong\").select(\"userId\", \"artist\").dropDuplicates().groupby(\"userId\").count()\\\n",
    "         .withColumnRenamed(\"count\", \"tot_artist_played\")"
   ]
  },
  {
   "cell_type": "code",
   "execution_count": 99,
   "metadata": {},
   "outputs": [],
   "source": [
    "# setting the churn label for our model\n",
    "target = df.select('userId', col('user_churn').alias('label')).dropDuplicates()"
   ]
  },
  {
   "cell_type": "code",
   "execution_count": 100,
   "metadata": {},
   "outputs": [],
   "source": [
    "# Combining all features with the target churn label\n",
    "final_data  = feat_1.join(feat_2,'userID','outer') \\\n",
    "    .join(feat_3,'userID','outer') \\\n",
    "    .join(feat_4,'userID','outer') \\\n",
    "    .join(feat_5,'userID','outer') \\\n",
    "    .join(feat_6,'userID','outer') \\\n",
    "    .join(feat_7,'userID','outer') \\\n",
    "    .join(feat_8,'userID','outer') \\\n",
    "    .join(feat_9,'userID','outer') \\\n",
    "    .join(feat_10,'userID','outer') \\\n",
    "    .join(target,'userID','outer') \\\n",
    "    .drop('userID') \\\n",
    "    .fillna(0)"
   ]
  },
  {
   "cell_type": "code",
   "execution_count": 101,
   "metadata": {},
   "outputs": [
    {
     "name": "stderr",
     "output_type": "stream",
     "text": [
      "[Stage 441:>                                                        (0 + 1) / 1]\r"
     ]
    },
    {
     "name": "stdout",
     "output_type": "stream",
     "text": [
      "+------+---------+------------------+------------+--------------+---------------+-----------+-----------+------------------+-----------------+-----+\n",
      "|gender|tot_songs|       listen_time|num_thumb_up|num_thumb_down|add_to_playlist|         lt|tot_friends|  avg_played_songs|tot_artist_played|label|\n",
      "+------+---------+------------------+------------+--------------+---------------+-----------+-----------+------------------+-----------------+-----+\n",
      "|     0|      795|166866.37251000004|          37|             4|              9| 4472293000|         12|112.16666666666667|              565|    0|\n",
      "|     0|     3214|  672877.856590001|         148|            27|             61| 5605094000|         49| 78.88235294117646|             1705|    0|\n",
      "|     0|      187|35073.742150000005|           8|             2|              3| 3870739000|          2|             33.25|              125|    1|\n",
      "|     0|      218| 49559.91809999999|           5|             0|              5|13864787000|          1|             48.75|              184|    0|\n",
      "|     0|       78|12306.419320000003|           3|             0|              2| 1965437000|          0|              25.5|               50|    1|\n",
      "+------+---------+------------------+------------+--------------+---------------+-----------+-----------+------------------+-----------------+-----+\n",
      "only showing top 5 rows\n",
      "\n"
     ]
    },
    {
     "name": "stderr",
     "output_type": "stream",
     "text": [
      "\r",
      "                                                                                \r"
     ]
    }
   ],
   "source": [
    "final_data.show(5)"
   ]
  },
  {
   "cell_type": "code",
   "execution_count": 102,
   "metadata": {},
   "outputs": [],
   "source": [
    "incol = ['gender','tot_songs',\n",
    " 'listen_time',\n",
    " 'num_thumb_up',\n",
    " 'num_thumb_down',\n",
    " 'add_to_playlist',\n",
    " 'lt',\n",
    " 'tot_friends',\n",
    " 'avg_played_songs',\n",
    " 'tot_artist_played']\n",
    "assembler = VectorAssembler(inputCols=incol, outputCol=\"NumFeatures\")\n",
    "final_data = assembler.transform(final_data)"
   ]
  },
  {
   "cell_type": "code",
   "execution_count": 103,
   "metadata": {},
   "outputs": [
    {
     "name": "stderr",
     "output_type": "stream",
     "text": [
      "                                                                                \r"
     ]
    }
   ],
   "source": [
    "scaler2 = StandardScaler(inputCol=\"NumFeatures\", outputCol=\"features\", withStd=True)\n",
    "scalerModel = scaler2.fit(final_data)\n",
    "final_data = scalerModel.transform(final_data)"
   ]
  },
  {
   "cell_type": "code",
   "execution_count": 104,
   "metadata": {},
   "outputs": [
    {
     "name": "stderr",
     "output_type": "stream",
     "text": [
      "                                                                                \r"
     ]
    },
    {
     "data": {
      "text/plain": [
       "[Row(gender=0, tot_songs=795, listen_time=166866.37251000004, num_thumb_up=37, num_thumb_down=4, add_to_playlist=9, lt=4472293000, tot_friends=12, avg_played_songs=112.16666666666667, tot_artist_played=565, label=0, NumFeatures=DenseVector([0.0, 795.0, 166866.3725, 37.0, 4.0, 9.0, 4472293000.0, 12.0, 112.1667, 565.0]), features=DenseVector([0.0, 0.598, 0.6059, 0.5651, 0.3059, 0.2751, 1.3744, 0.583, 2.6321, 0.9355])),\n",
       " Row(gender=0, tot_songs=3214, listen_time=672877.856590001, num_thumb_up=148, num_thumb_down=27, add_to_playlist=61, lt=5605094000, tot_friends=49, avg_played_songs=78.88235294117646, tot_artist_played=1705, label=0, NumFeatures=DenseVector([0.0, 3214.0, 672877.8566, 148.0, 27.0, 61.0, 5605094000.0, 49.0, 78.8824, 1705.0]), features=DenseVector([0.0, 2.4174, 2.4433, 2.2603, 2.0646, 1.8645, 1.7226, 2.3808, 1.851, 2.8231]))]"
      ]
     },
     "execution_count": 104,
     "metadata": {},
     "output_type": "execute_result"
    }
   ],
   "source": [
    "final_data.take(2)"
   ]
  },
  {
   "cell_type": "markdown",
   "metadata": {},
   "source": [
    "# Modeling\n",
    "Split the full dataset into train, test, and validation sets. Test out several of the machine learning methods you learned. Evaluate the accuracy of the various models, tuning parameters as necessary. Determine your winning model based on test accuracy and report results on the validation set. Since the churned users are a fairly small subset, I suggest using F1 score as the metric to optimize."
   ]
  },
  {
   "cell_type": "code",
   "execution_count": 106,
   "metadata": {},
   "outputs": [
    {
     "name": "stderr",
     "output_type": "stream",
     "text": [
      "                                                                                \r"
     ]
    },
    {
     "data": {
      "text/plain": [
       "[Row(label=0, features=DenseVector([0.0, 0.598, 0.6059, 0.5651, 0.3059, 0.2751, 1.3744, 0.583, 2.6321, 0.9355]))]"
      ]
     },
     "execution_count": 106,
     "metadata": {},
     "output_type": "execute_result"
    }
   ],
   "source": [
    "final_data2 = final_data.select('label','features')\n",
    "final_data2.take(1)"
   ]
  },
  {
   "cell_type": "code",
   "execution_count": 108,
   "metadata": {},
   "outputs": [],
   "source": [
    "train,validation = final_data2.randomSplit([0.8, 0.2], seed=50)"
   ]
  },
  {
   "cell_type": "code",
   "execution_count": 109,
   "metadata": {},
   "outputs": [],
   "source": [
    "# Models to train: logistic regression, svm, gradient boosting tree\n",
    "logistic_reg = LogisticRegression(maxIter=10, regParam =0.0)\n",
    "gbt = GBTClassifier(maxDepth = 5, maxIter = 10, seed = 42)\n",
    "svm = LinearSVC (maxIter = 10,  regParam = 0.01) "
   ]
  },
  {
   "cell_type": "code",
   "execution_count": 110,
   "metadata": {},
   "outputs": [
    {
     "name": "stderr",
     "output_type": "stream",
     "text": [
      "24/09/09 07:27:02 WARN InstanceBuilder: Failed to load implementation from:dev.ludovic.netlib.blas.JNIBLAS\n",
      "24/09/09 07:27:02 WARN InstanceBuilder: Failed to load implementation from:dev.ludovic.netlib.blas.VectorBLAS\n",
      "[Stage 5691:>                                                       (0 + 1) / 1]\r"
     ]
    },
    {
     "data": {
      "text/plain": [
       "[0.799960219226334, 0.7158204779023712, 0.6967849671525838]"
      ]
     },
     "execution_count": 110,
     "metadata": {},
     "output_type": "execute_result"
    }
   ],
   "source": [
    "#Logistic Regression\n",
    "e1 = MulticlassClassificationEvaluator(metricName='f1')\n",
    "paramGrid = ParamGridBuilder() \\\n",
    "    .addGrid(logistic_reg.regParam,[0.0, 0.05, 0.1]) \\\n",
    "    .build()\n",
    "crossval = CrossValidator(estimator=logistic_reg,\n",
    "                          estimatorParamMaps=paramGrid,\n",
    "                          evaluator=e1,\n",
    "                          numFolds=3)\n",
    "cvModel_q1 = crossval.fit(train)\n",
    "cvModel_q1.avgMetrics"
   ]
  },
  {
   "cell_type": "code",
   "execution_count": 111,
   "metadata": {},
   "outputs": [
    {
     "name": "stderr",
     "output_type": "stream",
     "text": [
      "[Stage 14468:>                                                      (0 + 1) / 1]\r"
     ]
    },
    {
     "data": {
      "text/plain": [
       "[0.7022765108491001, 0.6856905346959222, 0.6914726667938438]"
      ]
     },
     "execution_count": 111,
     "metadata": {},
     "output_type": "execute_result"
    }
   ],
   "source": [
    "# Support Vector Machine \n",
    "e1 = MulticlassClassificationEvaluator(metricName='f1')\n",
    "paramGrid = ParamGridBuilder() \\\n",
    "    .addGrid(svm.regParam,[0.01, 0.05, 0.5]) \\\n",
    "    .build()\n",
    "crossval = CrossValidator(estimator=svm,\n",
    "                          estimatorParamMaps=paramGrid,\n",
    "                          evaluator=e1,\n",
    "                          numFolds=3)\n",
    "cvModel_q2 = crossval.fit(train)\n",
    "cvModel_q2.avgMetrics"
   ]
  },
  {
   "cell_type": "code",
   "execution_count": 112,
   "metadata": {},
   "outputs": [
    {
     "name": "stderr",
     "output_type": "stream",
     "text": [
      "                                                                                \r"
     ]
    }
   ],
   "source": [
    "gbt_tuned = GBTClassifier(maxDepth=5,maxIter=10,seed=42)\n",
    "gbt_model = gbt_tuned.fit(train)\n",
    "results = gbt_model.transform(validation)"
   ]
  },
  {
   "cell_type": "code",
   "execution_count": 113,
   "metadata": {},
   "outputs": [
    {
     "name": "stderr",
     "output_type": "stream",
     "text": [
      "[Stage 16175:>                                                      (0 + 1) / 1]\r"
     ]
    },
    {
     "name": "stdout",
     "output_type": "stream",
     "text": [
      "0.75\n"
     ]
    },
    {
     "name": "stderr",
     "output_type": "stream",
     "text": [
      "\r",
      "                                                                                \r"
     ]
    }
   ],
   "source": [
    "evaluator = MulticlassClassificationEvaluator(predictionCol=\"prediction\")\n",
    "print(evaluator.evaluate(results, {evaluator.metricName: \"accuracy\"}))"
   ]
  },
  {
   "cell_type": "code",
   "execution_count": 114,
   "metadata": {},
   "outputs": [
    {
     "name": "stderr",
     "output_type": "stream",
     "text": [
      "[Stage 16328:>                                                      (0 + 1) / 1]\r"
     ]
    },
    {
     "name": "stdout",
     "output_type": "stream",
     "text": [
      "0.7429467084639498\n"
     ]
    },
    {
     "name": "stderr",
     "output_type": "stream",
     "text": [
      "\r",
      "                                                                                \r"
     ]
    }
   ],
   "source": [
    "print(evaluator.evaluate(results, {evaluator.metricName: \"f1\"}))"
   ]
  },
  {
   "cell_type": "code",
   "execution_count": 115,
   "metadata": {},
   "outputs": [
    {
     "data": {
      "text/plain": [
       "SparseVector(10, {1: 0.1999, 2: 0.0118, 3: 0.0666, 4: 0.1982, 5: 0.0541, 6: 0.2595, 7: 0.0301, 8: 0.1594, 9: 0.0204})"
      ]
     },
     "execution_count": 115,
     "metadata": {},
     "output_type": "execute_result"
    }
   ],
   "source": [
    "gbt_model.featureImportances"
   ]
  },
  {
   "cell_type": "code",
   "execution_count": 116,
   "metadata": {},
   "outputs": [
    {
     "data": {
      "image/png": "[encoded data removed]",
      "text/plain": [
       "<Figure size 640x480 with 1 Axes>"
      ]
     },
     "metadata": {},
     "output_type": "display_data"
    }
   ],
   "source": [
    "importances  = [ 0.134,0.0408,0.1519,0.0639,0.0946,0.2436,0.0988,0.0301,0.1421]\n",
    "feature = [\"listen_time\", \"num_song\", \"num_thumb_down\", \\\n",
    "          'num_thumb_up','add_to_playlist','lt','add_friend','help','rolladvert']\n",
    "y_pos = np.arange(len(feature))\n",
    " \n",
    "plt.barh(y_pos, importances, align='center')\n",
    "plt.yticks(y_pos, feature)\n",
    "plt.xlabel('Importance Score')\n",
    "plt.title('GBT Feature Importances')\n",
    "plt.savefig('GBT feature Importance.png', dpi=300)"
   ]
  },
  {
   "cell_type": "markdown",
   "metadata": {},
   "source": [
    "# Conclusion\n",
    "\n",
    "We started the project with a small dataset of just 128MB. After loading and cleaning our data we explored the dataset for useful features to predict churn and were able to build out the most promising features. We then preprocessed these and used the features with three different machine learning models. Logistic Regression the best, Support Vector Machine and Gradient-Boosted Trees.\n",
    "\n",
    "for comparison\n",
    "\n",
    "F1-Score on the validation set\n",
    "- 0.8 For Logistic Regression Model\n",
    "- 0.7 For Support Vector Machine\n",
    "- 0.74 For Gradient Boosted Trees\n",
    "\n",
    "\n",
    "Sparkify can use our model to target customers who are likely to churn and offer attractive incentives to stay to prevent them from cancelling the service. I think attention should we be paid on how to deal with mispredicted users, because offering discount to falsely classified users can be expensive for the company in the long term. I also think that more feature engieering should be done in order to extract relevant features for our model. It will also be important to analyse the life cycle of the users, in order to get understand the timing of the churn decision.\n"
   ]
  },
  {
   "cell_type": "markdown",
   "metadata": {},
   "source": [
    "# Final Steps\n",
    "Clean up your code, adding comments and renaming variables to make the code easier to read and maintain. Refer to the Spark Project Overview page and Data Scientist Capstone Project Rubric to make sure you are including all components of the capstone project and meet all expectations. Remember, this includes thorough documentation in a README file in a Github repository, as well as a web app or blog post."
   ]
  },
  {
   "cell_type": "code",
   "execution_count": null,
   "metadata": {},
   "outputs": [],
   "source": []
  }
 ],
 "metadata": {
  "kernelspec": {
   "display_name": "Python 3 (ipykernel)",
   "language": "python",
   "name": "python3"
  },
  "language_info": {
   "codemirror_mode": {
    "name": "ipython",
    "version": 3
   },
   "file_extension": ".py",
   "mimetype": "text/x-python",
   "name": "python",
   "nbconvert_exporter": "python",
   "pygments_lexer": "ipython3",
   "version": "3.10.13"
  }
 },
 "nbformat": 4,
 "nbformat_minor": 2
}
